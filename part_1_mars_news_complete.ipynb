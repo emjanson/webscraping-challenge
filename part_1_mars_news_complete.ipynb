{
 "cells": [
  {
   "cell_type": "markdown",
   "metadata": {},
   "source": [
    "# Module 11 Challenge\n",
    "## Deliverable 1: Scrape Titles and Preview Text from Mars News"
   ]
  },
  {
   "cell_type": "code",
   "execution_count": 1,
   "metadata": {},
   "outputs": [],
   "source": [
    "# Import Splinter and BeautifulSoup\n",
    "from splinter import Browser\n",
    "from bs4 import BeautifulSoup as soup\n",
    "import json\n",
    "import os"
   ]
  },
  {
   "cell_type": "code",
   "execution_count": 2,
   "metadata": {
    "scrolled": true
   },
   "outputs": [],
   "source": [
    "browser = Browser('chrome')"
   ]
  },
  {
   "cell_type": "markdown",
   "metadata": {},
   "source": [
    "### Step 1: Visit the Website\n",
    "\n",
    "1. Use automated browsing to visit the [Mars news site](https://static.bc-edx.com/data/web/mars_news/index.html). Inspect the page to identify which elements to scrape.\n",
    "\n",
    "      > **Hint** To identify which elements to scrape, you might want to inspect the page by using Chrome DevTools."
   ]
  },
  {
   "cell_type": "code",
   "execution_count": 3,
   "metadata": {},
   "outputs": [],
   "source": [
    "# Visit the Mars news site\n",
    "url = 'https://static.bc-edx.com/data/web/mars_news/index.html'\n",
    "browser.visit(url)"
   ]
  },
  {
   "cell_type": "markdown",
   "metadata": {},
   "source": [
    "### Step 2: Scrape the Website\n",
    "\n",
    "Create a Beautiful Soup object and use it to extract text elements from the website."
   ]
  },
  {
   "cell_type": "code",
   "execution_count": 4,
   "metadata": {},
   "outputs": [],
   "source": [
    "# Create a Beautiful Soup object\n",
    "# Ensure the page loads completely (you might need to adjust sleep duration)\n",
    "browser.is_element_present_by_css('section.image_and_description_container', wait_time=10)\n",
    "\n",
    "# Get the HTML content after the page has loaded\n",
    "html = browser.html\n",
    "soup = soup(html, 'html.parser')\n",
    "\n",
    "# Find the section containing news articles\n",
    "news_section = soup.find('section', class_='image_and_description_container')\n",
    "\n",
    "# Find all the divs representing individual articles\n",
    "articles = news_section.find_all('div', class_='list_text')"
   ]
  },
  {
   "cell_type": "code",
   "execution_count": 5,
   "metadata": {},
   "outputs": [],
   "source": [
    "# Extract all the text elements"
   ]
  },
  {
   "cell_type": "markdown",
   "metadata": {},
   "source": [
    "### Step 3: Store the Results\n",
    "\n",
    "Extract the titles and preview text of the news articles that you scraped. Store the scraping results in Python data structures as follows:\n",
    "\n",
    "* Store each title-and-preview pair in a Python dictionary. And, give each dictionary two keys: `title` and `preview`. An example is the following:\n",
    "\n",
    "  ```python\n",
    "  {'title': \"NASA's MAVEN Observes Martian Light Show Caused by Major Solar Storm\", \n",
    "   'preview': \"For the first time in its eight years orbiting Mars, NASA’s MAVEN mission witnessed two different types of ultraviolet aurorae simultaneously, the result of solar storms that began on Aug. 27.\"\n",
    "  }\n",
    "  ```\n",
    "\n",
    "* Store all the dictionaries in a Python list.\n",
    "\n",
    "* Print the list in your notebook."
   ]
  },
  {
   "cell_type": "code",
   "execution_count": 6,
   "metadata": {},
   "outputs": [],
   "source": [
    "# Create an empty list to store the dictionaries\n",
    "news_list = []"
   ]
  },
  {
   "cell_type": "code",
   "execution_count": 7,
   "metadata": {},
   "outputs": [],
   "source": [
    "# Loop through the text elements\n",
    "for article in articles:\n",
    "    # Extract title, date, and preview text\n",
    "    title = article.find('div', class_='content_title').text.strip()\n",
    "    preview = article.find('div', class_='article_teaser_body').text.strip()\n",
    "\n",
    "    # Store the data in a dictionary\n",
    "    article_data = {'title': title, 'preview': preview}\n",
    "\n",
    "    # Append the dictionary to the list\n",
    "    news_list.append(article_data)"
   ]
  },
  {
   "cell_type": "code",
   "execution_count": 8,
   "metadata": {
    "scrolled": true
   },
   "outputs": [
    {
     "name": "stdout",
     "output_type": "stream",
     "text": [
      "Article 1:\n",
      "Title: NASA's MAVEN Observes Martian Light Show Caused by Major Solar Storm\n",
      "Preview: For the first time in its eight years orbiting Mars, NASA’s MAVEN mission witnessed two different types of ultraviolet aurorae simultaneously, the result of solar storms that began on Aug. 27.\n",
      "\n",
      "\n",
      "Article 2:\n",
      "Title: NASA Prepares to Say 'Farewell' to InSight Spacecraft\n",
      "Preview: A closer look at what goes into wrapping up the mission as the spacecraft’s power supply continues to dwindle.\n",
      "\n",
      "\n",
      "Article 3:\n",
      "Title: NASA and ESA Agree on Next Steps to Return Mars Samples to Earth\n",
      "Preview: The agency’s Perseverance rover will establish the first sample depot on Mars.\n",
      "\n",
      "\n",
      "Article 4:\n",
      "Title: NASA's InSight Lander Detects Stunning Meteoroid Impact on Mars\n",
      "Preview: The agency’s lander felt the ground shake during the impact while cameras aboard the Mars Reconnaissance Orbiter spotted the yawning new crater from space.\n",
      "\n",
      "\n",
      "Article 5:\n",
      "Title: NASA To Host Briefing on InSight, Mars Reconnaissance Orbiter Findings\n",
      "Preview: Scientists from two Mars missions will discuss how they combined images and data for a major finding on the Red Planet.\n",
      "\n",
      "\n",
      "Article 6:\n",
      "Title: Why NASA Is Trying To Crash Land on Mars\n",
      "Preview: Like a car’s crumple zone, the experimental SHIELD lander is designed to absorb a hard impact.\n",
      "\n",
      "\n",
      "Article 7:\n",
      "Title: Curiosity Mars Rover Reaches Long-Awaited Salty Region\n",
      "Preview: After years of climbing, the Mars rover has arrived at a special region believed to have formed as Mars’ climate was drying.\n",
      "\n",
      "\n",
      "Article 8:\n",
      "Title: Mars Mission Shields Up for Tests\n",
      "Preview: Protecting Mars Sample Return spacecraft from micrometeorites requires high-caliber work.\n",
      "\n",
      "\n",
      "Article 9:\n",
      "Title: NASA's InSight Waits Out Dust Storm\n",
      "Preview: InSight’s team is taking steps to help the solar-powered lander continue operating for as long as possible.\n",
      "\n",
      "\n",
      "Article 10:\n",
      "Title: NASA's InSight 'Hears' Its First Meteoroid Impacts on Mars\n",
      "Preview: The Mars lander’s seismometer has picked up vibrations from four separate impacts in the past two years.\n",
      "\n",
      "\n",
      "Article 11:\n",
      "Title: NASA's Perseverance Rover Investigates Geologically Rich Mars Terrain\n",
      "Preview: The latest findings provide greater detail on a region of the Red Planet that has a watery past and is yielding promising samples for the NASA-ESA Mars Sample Return campaign.\n",
      "\n",
      "\n",
      "Article 12:\n",
      "Title: NASA to Host Briefing on Perseverance Mars Rover Mission Operations\n",
      "Preview: Members of the mission will discuss the rover’s activities as it gathers samples in an ancient river delta.\n",
      "\n",
      "\n",
      "Article 13:\n",
      "Title: NASA's Perseverance Makes New Discoveries in Mars' Jezero Crater\n",
      "Preview: The rover found that Jezero Crater’s floor is made up of volcanic rocks that have interacted with water.\n",
      "\n",
      "\n",
      "Article 14:\n",
      "Title: 10 Years Since Landing, NASA's Curiosity Mars Rover Still Has Drive\n",
      "Preview: Despite signs of wear, the intrepid spacecraft is about to start an exciting new chapter of its mission as it climbs a Martian mountain.\n",
      "\n",
      "\n",
      "Article 15:\n",
      "Title: SAM's Top 5 Discoveries Aboard NASA's Curiosity Rover at Mars\n",
      "Preview: “Selfie” of the Curiosity rover with inset showing the SAM instrument prior to installation on the rover.\n",
      "\n",
      "\n"
     ]
    }
   ],
   "source": [
    "# Print the results neatly and legibly\n",
    "for index, article_data in enumerate(news_list, start=1):\n",
    "    print(f\"Article {index}:\")\n",
    "    print(f\"Title: {article_data['title']}\")\n",
    "    print(f\"Preview: {article_data['preview']}\")\n",
    "    print(\"\\n\")"
   ]
  },
  {
   "cell_type": "code",
   "execution_count": 9,
   "metadata": {},
   "outputs": [
    {
     "name": "stdout",
     "output_type": "stream",
     "text": [
      "\n",
      "Scraped data saved to output\\mars_news.json\n"
     ]
    }
   ],
   "source": [
    "# Create the 'output' directory if it doesn't exist\n",
    "output_directory = 'scrape_output'\n",
    "os.makedirs(output_directory, exist_ok=True)\n",
    "\n",
    "# Save the scraped data to a JSON file in the 'output' directory\n",
    "json_filename = os.path.join(output_directory, 'mars_news.json')\n",
    "with open(json_filename, 'w') as json_file:\n",
    "    json.dump(news_list, json_file)\n",
    "\n",
    "print(f\"\\nScraped data saved to {json_filename}\")"
   ]
  },
  {
   "cell_type": "code",
   "execution_count": 10,
   "metadata": {},
   "outputs": [],
   "source": [
    "browser.quit()"
   ]
  }
 ],
 "metadata": {
  "kernelspec": {
   "display_name": "Python 3 (ipykernel)",
   "language": "python",
   "name": "python3"
  },
  "language_info": {
   "codemirror_mode": {
    "name": "ipython",
    "version": 3
   },
   "file_extension": ".py",
   "mimetype": "text/x-python",
   "name": "python",
   "nbconvert_exporter": "python",
   "pygments_lexer": "ipython3",
   "version": "3.12.0"
  },
  "vscode": {
   "interpreter": {
    "hash": "31f2aee4e71d21fbe5cf8b01ff0e069b9275f58929596ceb00d14d90e3e16cd6"
   }
  }
 },
 "nbformat": 4,
 "nbformat_minor": 4
}
